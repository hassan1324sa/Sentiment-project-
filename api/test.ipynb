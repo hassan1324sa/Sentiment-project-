{
 "cells": [
  {
   "cell_type": "code",
   "execution_count": 4,
   "metadata": {},
   "outputs": [
    {
     "name": "stdout",
     "output_type": "stream",
     "text": [
      "Add Text: {'data': {'id': 2, 'text': \"I'm feeling sad\", 'sentiment': True}}\n",
      "Update Text: {'data': {'id': 1, 'text': \"I'm feeling happy\", 'sentiment': False}}\n",
      "Delete Text: {'message': 'Text deleted successfully'}\n",
      "All Text Entries: 1\n"
     ]
    }
   ],
   "source": [
    "import requests\n",
    "\n",
    "BASE_URL = \"https://sentiment-analysis-api-production-afe1.up.railway.app/\"\n",
    "\n",
    "# Add a new text entry\n",
    "new_text = {\"text\": \"I'm feeling sad\", \"sentiment\": True}\n",
    "response = requests.post(f\"{BASE_URL}/addText\", json=new_text)\n",
    "print(\"Add Text:\", response.json())\n",
    "\n",
    "# Update a text entry\n",
    "updated_text = {\"text\": \"I'm feeling happy\", \"sentiment\": False}\n",
    "response = requests.put(f\"{BASE_URL}/putText/1\", json=updated_text)\n",
    "print(\"Update Text:\", response.json())\n",
    "\n",
    "# Delete a text entry\n",
    "response = requests.delete(f\"{BASE_URL}/deleteText/2\")\n",
    "print(\"Delete Text:\", response.json())\n",
    "\n",
    "# Get all text entries\n",
    "response = requests.get(f\"{BASE_URL}/\")\n",
    "print(\"All Text Entries:\", response.json()[\"data\"][0][\"id\"])\n"
   ]
  },
  {
   "cell_type": "code",
   "execution_count": null,
   "metadata": {},
   "outputs": [],
   "source": []
  }
 ],
 "metadata": {
  "kernelspec": {
   "display_name": "computerVision",
   "language": "python",
   "name": "python3"
  },
  "language_info": {
   "codemirror_mode": {
    "name": "ipython",
    "version": 3
   },
   "file_extension": ".py",
   "mimetype": "text/x-python",
   "name": "python",
   "nbconvert_exporter": "python",
   "pygments_lexer": "ipython3",
   "version": "3.9.19"
  }
 },
 "nbformat": 4,
 "nbformat_minor": 2
}
